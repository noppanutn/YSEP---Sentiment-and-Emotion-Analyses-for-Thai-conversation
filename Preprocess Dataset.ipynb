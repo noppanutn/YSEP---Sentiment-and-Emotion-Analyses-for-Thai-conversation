{
 "cells": [
  {
   "cell_type": "code",
   "execution_count": 43,
   "metadata": {
    "collapsed": true
   },
   "outputs": [],
   "source": [
    "# Read dataset file\n",
    "\n",
    "filename = \"./dataset/tweet8000.csv\""
   ]
  },
  {
   "cell_type": "code",
   "execution_count": 44,
   "metadata": {
    "collapsed": true
   },
   "outputs": [],
   "source": [
    "import numpy as np\n",
    "import pandas as pd\n",
    "import csv\n",
    "import re\n",
    "from pythainlp.tokenize import word_tokenize\n",
    "from pythainlp.corpus import stopwords\n",
    "\n",
    "from sklearn.feature_extraction.text import TfidfVectorizer\n",
    "from sklearn import svm\n",
    "from sklearn.model_selection import train_test_split\n",
    "\n",
    "from sklearn.model_selection import StratifiedKFold\n",
    "from sklearn.metrics import recall_score, precision_score, f1_score\n",
    "from sklearn.metrics import confusion_matrix"
   ]
  },
  {
   "cell_type": "code",
   "execution_count": 45,
   "metadata": {},
   "outputs": [],
   "source": [
    "def tokenizer(tweet):\n",
    "    pattern = re.compile(r\"[^\\u0E00-\\u0E4C]|^'|'$|''|\\u0E46|\\u0E3F\")\n",
    "    char_to_remove = re.findall(pattern, tweet)\n",
    "    list_with_char_removed = [char for char in tweet if not char in char_to_remove]\n",
    "    result_string = ''.join(list_with_char_removed)\n",
    "    return word_tokenize(result_string, engine='deepcut')"
   ]
  },
  {
   "cell_type": "code",
   "execution_count": 46,
   "metadata": {},
   "outputs": [],
   "source": [
    "## Read a file and make a numpy array of labels\n",
    "df = pd.read_csv(filename)\n",
    "X = np.array(df['tweet'])\n",
    "y1 = np.array(df['anger'])\n",
    "y2 = np.array(df['anticipation'])\n",
    "y3 = np.array(df['disgust'])\n",
    "y4 = np.array(df['fear'])\n",
    "y5 = np.array(df['joy'])\n",
    "y6 = np.array(df['sadness'])\n",
    "y7 = np.array(df['surprise'])\n",
    "y8 = np.array(df['trust'])\n",
    "l = np.array(df['label'])"
   ]
  },
  {
   "cell_type": "code",
   "execution_count": 47,
   "metadata": {},
   "outputs": [],
   "source": [
    "def train_model(X,y,n,C):\n",
    "    features = X\n",
    "    label =y\n",
    "    \n",
    "    R = 0.0\n",
    "    P = 0.0\n",
    "    F = 0.0\n",
    "    \n",
    "    skf = StratifiedKFold(n_splits=n, random_state=30, shuffle=True)\n",
    "    \n",
    "    for train_index, test_index in skf.split(features, label):\n",
    "        #print(\"TRAIN:\", train_index, \"TEST:\", test_index)\n",
    "        X_train, X_test = features[train_index], features[test_index]\n",
    "        y_train, y_test = label[train_index], label[test_index]\n",
    "        tclf = svm.LinearSVC(class_weight='balanced', C=C, random_state=0).fit(X_train,y_train)\n",
    "        predict = tclf.predict(X_test)\n",
    "        \n",
    "        r=recall_score(y_test,predict)\n",
    "        p=precision_score(y_test,predict)\n",
    "        f=f1_score(y_test,predict)\n",
    "        \n",
    "        R = R + r\n",
    "        P = P + p\n",
    "        F = F + f\n",
    "        \n",
    "        print('Prediction')\n",
    "        print(predict)\n",
    "        print('y')\n",
    "        print(y_test)\n",
    "        print('scores: recall, precision, f1')\n",
    "        print(r,p,f)\n",
    "        print()\n",
    "        \n",
    "    print()\n",
    "    print('Average')\n",
    "    print(R/n,P/n,F/n)"
   ]
  },
  {
   "cell_type": "code",
   "execution_count": null,
   "metadata": {
    "collapsed": true
   },
   "outputs": [],
   "source": [
    "def train_model_multi(X,y,n,C):\n",
    "    features = X\n",
    "    label =y\n",
    "    \n",
    "    R = 0.0\n",
    "    P = 0.0\n",
    "    F = 0.0\n",
    "    C = np.zeros(64)\n",
    "    \n",
    "    skf = StratifiedKFold(n_splits=n, random_state=30, shuffle=True)\n",
    "    \n",
    "    for train_index, test_index in skf.split(features, label):\n",
    "        #print(\"TRAIN:\", train_index, \"TEST:\", test_index)\n",
    "        X_train, X_test = features[train_index], features[test_index]\n",
    "        y_train, y_test = label[train_index], label[test_index]\n",
    "        tclf = svm.LinearSVC(class_weight='balanced', C=C, random_state=0).fit(X_train,y_train)\n",
    "        predict = tclf.predict(X_test)\n",
    "        \n",
    "        r=recall_score(y_test,predict,average='micro')\n",
    "        p=precision_score(y_test,predict,average='micro')\n",
    "        f=f1_score(y_test,predict,average='micro')\n",
    "        cm=confusion_matrix(y_test,predict)\n",
    "        \n",
    "        R = R + r\n",
    "        P = P + p\n",
    "        F = F + f\n",
    "        C = C + cm\n",
    "        \n",
    "        print('Prediction')\n",
    "        print(predict)\n",
    "        print('y')\n",
    "        print(y_test)\n",
    "        print('scores: recall, precision, f1')\n",
    "        print(r,p,f)\n",
    "        print('confusion matrix')\n",
    "        print(cm)\n",
    "        print()\n",
    "        \n",
    "    print()\n",
    "    print('Average')\n",
    "    print(R/n,P/n,F/n)\n",
    "    print(C)"
   ]
  },
  {
   "cell_type": "code",
   "execution_count": null,
   "metadata": {},
   "outputs": [],
   "source": [
    "v = TfidfVectorizer(tokenizer=tokenizer, stop_words=stopwords.words('thai'))\n",
    "train_data_feature = v.fit_transform(X).toarray()\n",
    "#print(v.get_feature_names())\n",
    "        \n",
    "X = train_data_feature"
   ]
  },
  {
   "cell_type": "code",
   "execution_count": null,
   "metadata": {},
   "outputs": [],
   "source": [
    "train_model(X,y1,5,1)"
   ]
  },
  {
   "cell_type": "code",
   "execution_count": null,
   "metadata": {},
   "outputs": [],
   "source": [
    "train_model_multi(X,l,5,1)"
   ]
  },
  {
   "cell_type": "code",
   "execution_count": null,
   "metadata": {
    "collapsed": true
   },
   "outputs": [],
   "source": []
  }
 ],
 "metadata": {
  "kernelspec": {
   "display_name": "Python 3",
   "language": "python",
   "name": "python3"
  },
  "language_info": {
   "codemirror_mode": {
    "name": "ipython",
    "version": 3
   },
   "file_extension": ".py",
   "mimetype": "text/x-python",
   "name": "python",
   "nbconvert_exporter": "python",
   "pygments_lexer": "ipython3",
   "version": "3.6.3"
  }
 },
 "nbformat": 4,
 "nbformat_minor": 2
}
