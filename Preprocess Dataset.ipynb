{
 "cells": [
  {
   "cell_type": "code",
   "execution_count": null,
   "metadata": {
    "collapsed": true
   },
   "outputs": [],
   "source": [
    "# Read dataset file\n",
    "\n",
    "filename = \"./dataset/tweet8000.csv\""
   ]
  },
  {
   "cell_type": "code",
   "execution_count": 1,
   "metadata": {
    "collapsed": true
   },
   "outputs": [],
   "source": [
    "## import dependencies\n",
    "import numpy as np\n",
    "import pandas as pd\n",
    "import csv\n",
    "import re\n",
    "from pythainlp.tokenize import word_tokenize\n",
    "from pythainlp.corpus import stopwords\n",
    "\n",
    "from sklearn.feature_extraction.text import TfidfVectorizer\n",
    "from sklearn import svm\n",
    "from sklearn.model_selection import train_test_split\n",
    "\n",
    "from sklearn.model_selection import StratifiedKFold\n",
    "from sklearn.metrics import recall_score, precision_score, f1_score\n",
    "from sklearn.metrics import confusion_matrix"
   ]
  },
  {
   "cell_type": "code",
   "execution_count": null,
   "metadata": {
    "collapsed": true
   },
   "outputs": [],
   "source": [
    "## define tokenizer method for TFIDFvectorizer\n",
    "\n",
    "def tokenizer(tweet):\n",
    "    pattern = re.compile(r\"[^\\u0E00-\\u0E4C]|^'|'$|''|\\u0E46|\\u0E3F\")\n",
    "    char_to_remove = re.findall(pattern, tweet)\n",
    "    list_with_char_removed = [char for char in tweet if not char in char_to_remove]\n",
    "    result_string = ''.join(list_with_char_removed)\n",
    "    return word_tokenize(result_string, engine='deepcut')"
   ]
  },
  {
   "cell_type": "code",
   "execution_count": null,
   "metadata": {
    "collapsed": true
   },
   "outputs": [],
   "source": [
    "## Read a file and make a numpy array of labels\n",
    "\n",
    "df = pd.read_csv(filename)\n",
    "X = np.array(df['tweet'])\n",
    "y1 = np.array(df['anger'])\n",
    "y2 = np.array(df['anticipation'])\n",
    "y3 = np.array(df['disgust'])\n",
    "y4 = np.array(df['fear'])\n",
    "y5 = np.array(df['joy'])\n",
    "y6 = np.array(df['sadness'])\n",
    "y7 = np.array(df['surprise'])\n",
    "y8 = np.array(df['trust'])\n",
    "l = np.array(df['label'])"
   ]
  },
  {
   "cell_type": "code",
   "execution_count": null,
   "metadata": {
    "collapsed": true
   },
   "outputs": [],
   "source": [
    "## train a model with CV\n",
    "\n",
    "def train_model(X,y,n,C):\n",
    "    features = X\n",
    "    label =y\n",
    "    \n",
    "    R = 0.0\n",
    "    P = 0.0\n",
    "    F = 0.0\n",
    "    \n",
    "    skf = StratifiedKFold(n_splits=n, random_state=30, shuffle=True)\n",
    "    \n",
    "    for train_index, test_index in skf.split(features, label):\n",
    "        #print(\"TRAIN:\", train_index, \"TEST:\", test_index)\n",
    "        X_train, X_test = features[train_index], features[test_index]\n",
    "        y_train, y_test = label[train_index], label[test_index]\n",
    "        tclf = svm.LinearSVC(class_weight='balanced', C=C, random_state=0).fit(X_train,y_train)\n",
    "        predict = tclf.predict(X_test)\n",
    "        \n",
    "        r=recall_score(y_test,predict)\n",
    "        p=precision_score(y_test,predict)\n",
    "        f=f1_score(y_test,predict)\n",
    "        \n",
    "        R = R + r\n",
    "        P = P + p\n",
    "        F = F + f\n",
    "        \n",
    "        print('Prediction')\n",
    "        print(predict)\n",
    "        print('y')\n",
    "        print(y_test)\n",
    "        print('scores: recall, precision, f1')\n",
    "        print(r,p,f)\n",
    "        print()\n",
    "        \n",
    "    print()\n",
    "    print('Average')\n",
    "    print(R/n,P/n,F/n)"
   ]
  },
  {
   "cell_type": "code",
   "execution_count": null,
   "metadata": {
    "collapsed": true
   },
   "outputs": [],
   "source": [
    "## train model for multi-class\n",
    "\n",
    "def train_model_multi(X,y,s):\n",
    "    features = X\n",
    "    label = y\n",
    "    \n",
    "    X_train, X_test, y_train, y_test = train_test_split(X, y,test_size=s, random_state=0)\n",
    "    tclf = svm.LinearSVC(class_weight='balanced', C=1, random_state=0).fit(X_train,y_train)\n",
    "    predict = tclf.predict(X_test)\n",
    "\n",
    "    r=recall_score(y_test,predict,average=None)\n",
    "    p=precision_score(y_test,predict,average=None)\n",
    "    f=f1_score(y_test,predict,average=None)\n",
    "    cm=confusion_matrix(y_test,predict)\n",
    "    print(predict)\n",
    "    print(y_test)\n",
    "    print(r,p,f)\n",
    "    print(cm)"
   ]
  },
  {
   "cell_type": "code",
   "execution_count": null,
   "metadata": {
    "collapsed": true
   },
   "outputs": [],
   "source": [
    "## Vectorized TF-IDF\n",
    "v = TfidfVectorizer(tokenizer=tokenizer, stop_words=stopwords.words('thai'))\n",
    "train_data_feature = v.fit_transform(X).toarray()\n",
    "#print(v.get_feature_names())\n",
    "        \n",
    "X = train_data_feature"
   ]
  },
  {
   "cell_type": "code",
   "execution_count": null,
   "metadata": {
    "collapsed": true
   },
   "outputs": [],
   "source": [
    "## Anger\n",
    "train_model(X,y1,5,1)"
   ]
  },
  {
   "cell_type": "code",
   "execution_count": null,
   "metadata": {
    "collapsed": true
   },
   "outputs": [],
   "source": [
    "## Multiclasses\n",
    "train_model_multi(X,l,0.2)"
   ]
  },
  {
   "cell_type": "code",
   "execution_count": null,
   "metadata": {
    "collapsed": true
   },
   "outputs": [],
   "source": [
    "len(l)"
   ]
  },
  {
   "cell_type": "code",
   "execution_count": null,
   "metadata": {
    "collapsed": true
   },
   "outputs": [],
   "source": [
    "train_model(X,y2,5,1)"
   ]
  },
  {
   "cell_type": "code",
   "execution_count": null,
   "metadata": {
    "collapsed": true
   },
   "outputs": [],
   "source": [
    "train_model(X,y3,5,1)"
   ]
  },
  {
   "cell_type": "code",
   "execution_count": null,
   "metadata": {
    "collapsed": true
   },
   "outputs": [],
   "source": [
    "train_model(X,y4,5,1)"
   ]
  },
  {
   "cell_type": "code",
   "execution_count": null,
   "metadata": {
    "collapsed": true
   },
   "outputs": [],
   "source": [
    "train_model(X,y5,5,1)"
   ]
  },
  {
   "cell_type": "code",
   "execution_count": null,
   "metadata": {
    "collapsed": true
   },
   "outputs": [],
   "source": [
    "train_model(X,y6,5,1)"
   ]
  },
  {
   "cell_type": "code",
   "execution_count": null,
   "metadata": {
    "collapsed": true
   },
   "outputs": [],
   "source": [
    "train_model(X,y7,5,1)"
   ]
  },
  {
   "cell_type": "code",
   "execution_count": null,
   "metadata": {
    "collapsed": true
   },
   "outputs": [],
   "source": [
    "train_model(X,y8,5,1)"
   ]
  },
  {
   "cell_type": "code",
   "execution_count": null,
   "metadata": {
    "collapsed": true
   },
   "outputs": [],
   "source": [
    "## Remove hashtag\n",
    "\n",
    "tweets = np.array(df['tweet'])\n",
    "TH = np.array(df['th'])\n",
    "\n",
    "for idx,th in enumerate(TH):\n",
    "    tweets[idx] = tweets[idx].replace('#'+th,'')\n",
    "print(tweets)"
   ]
  },
  {
   "cell_type": "code",
   "execution_count": null,
   "metadata": {
    "collapsed": true
   },
   "outputs": [],
   "source": [
    "v2 = TfidfVectorizer(tokenizer=tokenizer, stop_words=stopwords.words('thai'))\n",
    "X2 = v2.fit_transform(tweets).toarray()"
   ]
  },
  {
   "cell_type": "code",
   "execution_count": null,
   "metadata": {
    "collapsed": true
   },
   "outputs": [],
   "source": [
    "train_model(X2,y1,5,1)"
   ]
  },
  {
   "cell_type": "code",
   "execution_count": null,
   "metadata": {
    "collapsed": true
   },
   "outputs": [],
   "source": [
    "train_model_multi(X2,l,0.2)"
   ]
  },
  {
   "cell_type": "code",
   "execution_count": null,
   "metadata": {
    "collapsed": true
   },
   "outputs": [],
   "source": [
    "## Train with hashtag test without\n",
    "tclf = svm.LinearSVC(class_weight='balanced', C=1.0, random_state=0).fit(X,y1)\n",
    "predict = tclf.predict(v.transform(tweets))\n",
    "\n",
    "r=recall_score(y1,predict)\n",
    "p=precision_score(y1,predict)\n",
    "f=f1_score(y1,predict)\n",
    "\n",
    "print(r,p,f)"
   ]
  },
  {
   "cell_type": "code",
   "execution_count": null,
   "metadata": {
    "collapsed": true
   },
   "outputs": [],
   "source": [
    "tclf = svm.LinearSVC(class_weight='balanced', C=1.0, random_state=0).fit(X,y2)\n",
    "predict = tclf.predict(v.transform(tweets))\n",
    "\n",
    "r=recall_score(y2,predict)\n",
    "p=precision_score(y2,predict)\n",
    "f=f1_score(y2,predict)\n",
    "\n",
    "print(r,p,f)"
   ]
  },
  {
   "cell_type": "code",
   "execution_count": null,
   "metadata": {
    "collapsed": true
   },
   "outputs": [],
   "source": [
    "print(tclf.predict(v.transform([\"โกรธแล้ว\",\"ดีใจมากเลย\",\"หิวข้าว\"]).toarray()))"
   ]
  },
  {
   "cell_type": "code",
   "execution_count": null,
   "metadata": {
    "collapsed": true
   },
   "outputs": [],
   "source": [
    "anger = svm.LinearSVC(class_weight='balanced', C=1.0, random_state=0).fit(X,y1)"
   ]
  },
  {
   "cell_type": "code",
   "execution_count": null,
   "metadata": {
    "collapsed": true
   },
   "outputs": [],
   "source": [
    "print(anger.predict(v.transform([\"อีห่านนนนน เบียดกูจังเลย นมกูยิ่งไม่มีอยู่\"]).toarray()))"
   ]
  },
  {
   "cell_type": "code",
   "execution_count": null,
   "metadata": {
    "collapsed": true
   },
   "outputs": [],
   "source": [
    "predict = anger.predict(X)\n",
    "\n",
    "r=recall_score(y1,predict)\n",
    "p=precision_score(y1,predict)\n",
    "f=f1_score(y1,predict)\n",
    "\n",
    "print(r,p,f)"
   ]
  },
  {
   "cell_type": "code",
   "execution_count": null,
   "metadata": {
    "collapsed": true
   },
   "outputs": [],
   "source": [
    "mclf = svm.LinearSVC(class_weight='balanced', C=1, random_state=0).fit(X,l)\n",
    "mpredict = mclf.predict(v.transform(tweets))\n",
    "\n",
    "r=recall_score(l,mpredict,average=None)\n",
    "p=precision_score(l,mpredict,average=None)\n",
    "f=f1_score(l,mpredict,average=None)\n",
    "cm=confusion_matrix(l,mpredict)\n",
    "print(predict)\n",
    "print(l)\n",
    "print(r,p,f)\n",
    "print(cm)"
   ]
  },
  {
   "cell_type": "code",
   "execution_count": null,
   "metadata": {
    "collapsed": true
   },
   "outputs": [],
   "source": [
    "## tokenized tweets\n",
    "tk = []\n",
    "tw = np.array(df['tweet'])\n",
    "for idx,tweet in enumerate(tw):\n",
    "    #print(tweet)\n",
    "    tokenized = tokenizer(str(tweet))\n",
    "    tk.append(tokenized)\n",
    "tk"
   ]
  },
  {
   "cell_type": "code",
   "execution_count": null,
   "metadata": {
    "collapsed": true
   },
   "outputs": [],
   "source": [
    "## write tokenized tweets into a file\n",
    "\n",
    "tokenized_file = open('./dataset/tokenized_tweets.csv', 'w', encoding='utf8', newline='')\n",
    "with tokenized_file:\n",
    "    writer = csv.writer(tokenized_file)\n",
    "    writer.writerow(['tweet','th','eng','anger','anticipation','disgust','fear','joy','sadness','surprise','trust','label'])\n",
    "    for i in range(len(tk)):\n",
    "        string = ' '.join(tk[i])\n",
    "        #print(string)\n",
    "        writer.writerow([string,df['th'][i],df['eng'][i],y1[i],y2[i],y3[i],y4[i],y5[i],y6[i],y7[i],y8[i],l[i]])"
   ]
  },
  {
   "cell_type": "code",
   "execution_count": null,
   "metadata": {
    "collapsed": true
   },
   "outputs": [],
   "source": [
    "df2 = pd.read_csv('./dataset/tokenized_tweets.csv')\n",
    "t = df['tweet']"
   ]
  },
  {
   "cell_type": "code",
   "execution_count": null,
   "metadata": {
    "collapsed": true,
    "scrolled": true
   },
   "outputs": [],
   "source": [
    "t"
   ]
  },
  {
   "cell_type": "code",
   "execution_count": null,
   "metadata": {
    "collapsed": true
   },
   "outputs": [],
   "source": [
    "tokenizer(t[10])"
   ]
  },
  {
   "cell_type": "code",
   "execution_count": null,
   "metadata": {
    "collapsed": true
   },
   "outputs": [],
   "source": [
    "new_v = TfidfVectorizer()\n",
    "train_data_feature = new_v.fit_transform(t.values.astype('U'))"
   ]
  },
  {
   "cell_type": "code",
   "execution_count": null,
   "metadata": {
    "collapsed": true
   },
   "outputs": [],
   "source": [
    "tclf2 = svm.LinearSVC(class_weight='balanced', C=1.0, random_state=0).fit(train_data_feature,y1)\n",
    "predict = tclf2.predict(v.transform(tweets))\n",
    "\n",
    "r=recall_score(y1,predict)\n",
    "p=precision_score(y1,predict)\n",
    "f=f1_score(y1,predict)\n",
    "\n",
    "print(r,p,f)"
   ]
  },
  {
   "cell_type": "code",
   "execution_count": null,
   "metadata": {
    "collapsed": true
   },
   "outputs": [],
   "source": [
    "train_model(train_data_feature,y1,5,1)"
   ]
  },
  {
   "cell_type": "code",
   "execution_count": null,
   "metadata": {
    "collapsed": true
   },
   "outputs": [],
   "source": [
    "np.array(df['tweet'])"
   ]
  },
  {
   "cell_type": "code",
   "execution_count": 2,
   "metadata": {
    "collapsed": true
   },
   "outputs": [],
   "source": [
    "dataset_name = \"./dataset/tokenized_tweets_all.csv\"\n",
    "\n",
    "df = pd.read_csv(dataset_name)\n",
    "X = np.array(df['tweet'])\n",
    "y1 = np.array(df['anger'])\n",
    "y2 = np.array(df['anticipation'])\n",
    "y3 = np.array(df['disgust'])\n",
    "y4 = np.array(df['fear'])\n",
    "y5 = np.array(df['joy'])\n",
    "y6 = np.array(df['sadness'])\n",
    "y7 = np.array(df['surprise'])\n",
    "y8 = np.array(df['trust'])\n",
    "l = np.array(df['label'])"
   ]
  },
  {
   "cell_type": "code",
   "execution_count": 3,
   "metadata": {
    "collapsed": true
   },
   "outputs": [],
   "source": [
    "def tokenize_split(sentence):\n",
    "    s = sentence.split(\" \")\n",
    "    #print(t)\n",
    "    #remove ''\n",
    "    ans = [word for word in s if word not in ['','#']]\n",
    "    #print(ans)\n",
    "    return ans"
   ]
  },
  {
   "cell_type": "code",
   "execution_count": 4,
   "metadata": {
    "collapsed": true
   },
   "outputs": [],
   "source": [
    "vect = TfidfVectorizer(tokenizer=tokenize_split)\n",
    "train_data_feature = vect.fit_transform(X).toarray()\n",
    "#vect.get_feature_names()"
   ]
  },
  {
   "cell_type": "code",
   "execution_count": null,
   "metadata": {
    "collapsed": true
   },
   "outputs": [],
   "source": [
    "train_model(train_data_feature,y1,5,1)"
   ]
  },
  {
   "cell_type": "code",
   "execution_count": null,
   "metadata": {},
   "outputs": [],
   "source": [
    "len(vect.get_feature_names())"
   ]
  },
  {
   "cell_type": "code",
   "execution_count": null,
   "metadata": {
    "collapsed": true
   },
   "outputs": [],
   "source": [
    "X_train, X_test, y_train, y_test = train_test_split(train_data_feature,y1,test_size=0.2,random_state=0)\n",
    "#clf = svm.LinearSVC(class_weight='balanced',C=1).fit(X_train,y_train)\n",
    "#p = clf.predict(X_test)\n",
    "#print(recall_score(y_test,p),precision_score(y_test,p),f1_score(y_test,p))"
   ]
  },
  {
   "cell_type": "code",
   "execution_count": null,
   "metadata": {},
   "outputs": [],
   "source": [
    "len(train_data_feature[1])"
   ]
  },
  {
   "cell_type": "code",
   "execution_count": null,
   "metadata": {},
   "outputs": [],
   "source": [
    "vect.get_feature_names()[58427]"
   ]
  },
  {
   "cell_type": "code",
   "execution_count": null,
   "metadata": {},
   "outputs": [],
   "source": [
    "clf = svm.LinearSVC(class_weight='balanced',C=1).fit(train_data_feature[:100000],y1[:100000])"
   ]
  },
  {
   "cell_type": "code",
   "execution_count": 5,
   "metadata": {},
   "outputs": [
    {
     "data": {
      "text/plain": [
       "292122"
      ]
     },
     "execution_count": 5,
     "metadata": {},
     "output_type": "execute_result"
    }
   ],
   "source": [
    "len(y1)"
   ]
  },
  {
   "cell_type": "code",
   "execution_count": 27,
   "metadata": {},
   "outputs": [
    {
     "data": {
      "text/plain": [
       "array([1])"
      ]
     },
     "execution_count": 27,
     "metadata": {},
     "output_type": "execute_result"
    }
   ],
   "source": [
    "clf.predict(vect.transform([\"โว้ยยย อะไรเนี่ย\"]).toarray())"
   ]
  },
  {
   "cell_type": "code",
   "execution_count": null,
   "metadata": {
    "collapsed": true
   },
   "outputs": [],
   "source": []
  }
 ],
 "metadata": {
  "kernelspec": {
   "display_name": "Python 3",
   "language": "python",
   "name": "python3"
  },
  "language_info": {
   "codemirror_mode": {
    "name": "ipython",
    "version": 3
   },
   "file_extension": ".py",
   "mimetype": "text/x-python",
   "name": "python",
   "nbconvert_exporter": "python",
   "pygments_lexer": "ipython3",
   "version": "3.6.3"
  }
 },
 "nbformat": 4,
 "nbformat_minor": 2
}
