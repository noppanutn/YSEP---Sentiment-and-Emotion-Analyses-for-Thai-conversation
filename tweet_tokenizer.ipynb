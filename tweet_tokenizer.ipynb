{
 "cells": [
  {
   "cell_type": "code",
   "execution_count": 9,
   "metadata": {
    "collapsed": true
   },
   "outputs": [],
   "source": [
    "filename = \"./dataset/allEmoLabelled.csv\""
   ]
  },
  {
   "cell_type": "code",
   "execution_count": 2,
   "metadata": {
    "collapsed": true
   },
   "outputs": [],
   "source": [
    "import pandas as pd\n",
    "import numpy as np\n",
    "import csv\n",
    "\n",
    "from pythainlp.tokenize import word_tokenize\n",
    "from pythainlp.corpus import stopwords"
   ]
  },
  {
   "cell_type": "code",
   "execution_count": 10,
   "metadata": {
    "collapsed": true
   },
   "outputs": [],
   "source": [
    "df = pd.read_csv(filename)\n",
    "\n",
    "tweets = df['tweet']"
   ]
  },
  {
   "cell_type": "code",
   "execution_count": 4,
   "metadata": {
    "collapsed": true
   },
   "outputs": [],
   "source": [
    "def tokenizer(tweet):\n",
    "    #pattern = re.compile(r\"[^\\u0E00-\\u0E4C]|^'|'$|''|\\u0E46|\\u0E3F\")\n",
    "    #char_to_remove = re.findall(pattern, tweet)\n",
    "    #list_with_char_removed = [char for char in tweet if not char in char_to_remove]\n",
    "    #result_string = ''.join(list_with_char_removed)\n",
    "    return word_tokenize(tweet, engine='deepcut')"
   ]
  },
  {
   "cell_type": "code",
   "execution_count": 11,
   "metadata": {},
   "outputs": [
    {
     "name": "stdout",
     "output_type": "stream",
     "text": [
      "['กูไม่พูดกับแม่ ' 'จาก   #กลายเป็นเกลียดเเล้วน่ะ'\n",
      " 'ไข่มันก็แตกง่าย !!!อะไรหนักหนาว่ะ แม่งทำใหม่ก็ได้ วันวิชาการเหลืออีกตั้งหลายวัน แม่งกูเบื่อแล้วนะเว้ย!!!! '\n",
      " ...,\n",
      " 'มือที่สามแล้วไง? ก็แฟนมึงมีใจ กูถึงได้เป็น  #แรง    #นอกใจ  #แคปชั่นเด็ด  #แคปชั่นเสี่ยว  #แคปชั่นเด็ด  #แคปชั่นกวนตีน  #แคปชั่นแรง  #แคปชั่นอ่อย  #คำคมเด็กช่าง   #คำคมวงเหล้า  #คำคม  #แคปชั่นทะลึ่ง  #แคปชั่นจังไร  #แคปชั่นน่ารัก  #แคปชั่นเพื่อน  #แคปชั่นตลก  #แคปชั่นฮา'\n",
      " 'วิ่งตามเหนื่อยมั้ย....บอกเลยว่าเหนื่อยมากก   #แฟน  '\n",
      " 'เธอมีเขาเนิ่นนานซ่อนอยู่ ไม่เคยจะรู้ไม่เลย น้ำตาที่มันเอ่อล้นห้วใจ หมดทางจะไปไหลเลย ♬♪   #ไฮดร้า']\n"
     ]
    }
   ],
   "source": [
    "## Remove hashtag\n",
    "\n",
    "tweets = np.array(df['tweet'])\n",
    "TH = np.array(df['th'])\n",
    "\n",
    "for idx,th in enumerate(TH):\n",
    "    tweets[idx] = tweets[idx].replace('#'+th,'')\n",
    "print(tweets)"
   ]
  },
  {
   "cell_type": "code",
   "execution_count": 6,
   "metadata": {},
   "outputs": [
    {
     "name": "stderr",
     "output_type": "stream",
     "text": [
      "Using TensorFlow backend.\n"
     ]
    }
   ],
   "source": [
    "## tokenized tweets\n",
    "tk = []\n",
    "for tweet in tweets:\n",
    "    #print(tweet)\n",
    "    tokenized = tokenizer(str(tweet))\n",
    "    tk.append(tokenized)"
   ]
  },
  {
   "cell_type": "code",
   "execution_count": 7,
   "metadata": {
    "collapsed": true
   },
   "outputs": [],
   "source": [
    "y1 = np.array(df['anger'])\n",
    "y2 = np.array(df['anticipation'])\n",
    "y3 = np.array(df['disgust'])\n",
    "y4 = np.array(df['fear'])\n",
    "y5 = np.array(df['joy'])\n",
    "y6 = np.array(df['sadness'])\n",
    "y7 = np.array(df['surprise'])\n",
    "y8 = np.array(df['trust'])\n",
    "l = np.array(df['label'])"
   ]
  },
  {
   "cell_type": "code",
   "execution_count": 8,
   "metadata": {
    "collapsed": true
   },
   "outputs": [],
   "source": [
    "## write tokenized tweets into a file\n",
    "\n",
    "tokenized_file = open('./dataset/tokenized_tweets_8000_nohash.csv', 'w', encoding='utf8', newline='')\n",
    "with tokenized_file:\n",
    "    writer = csv.writer(tokenized_file)\n",
    "    writer.writerow(['tweet','th','eng','anger','anticipation','disgust','fear','joy','sadness','surprise','trust','label'])\n",
    "    for i in range(len(tk)):\n",
    "        string = ' '.join(tk[i])\n",
    "        #print(string)\n",
    "        writer.writerow([string,df['th'][i],df['eng'][i],y1[i],y2[i],y3[i],y4[i],y5[i],y6[i],y7[i],y8[i],l[i]])"
   ]
  },
  {
   "cell_type": "code",
   "execution_count": null,
   "metadata": {
    "collapsed": true
   },
   "outputs": [],
   "source": []
  }
 ],
 "metadata": {
  "kernelspec": {
   "display_name": "Python 3",
   "language": "python",
   "name": "python3"
  },
  "language_info": {
   "codemirror_mode": {
    "name": "ipython",
    "version": 3
   },
   "file_extension": ".py",
   "mimetype": "text/x-python",
   "name": "python",
   "nbconvert_exporter": "python",
   "pygments_lexer": "ipython3",
   "version": "3.6.3"
  }
 },
 "nbformat": 4,
 "nbformat_minor": 2
}
